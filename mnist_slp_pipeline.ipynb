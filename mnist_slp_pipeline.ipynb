{
 "cells": [
  {
   "attachments": {},
   "cell_type": "markdown",
   "metadata": {},
   "source": [
    "# MNIST Single Layer Perceptron Classifier"
   ]
  },
  {
   "cell_type": "markdown",
   "metadata": {},
   "source": [
    "## Content"
   ]
  },
  {
   "cell_type": "markdown",
   "metadata": {},
   "source": [
    "Development Environment\n",
    "<br/>Single Layer Perceptron Classifier"
   ]
  },
  {
   "cell_type": "markdown",
   "metadata": {},
   "source": [
    "---"
   ]
  },
  {
   "cell_type": "markdown",
   "metadata": {},
   "source": [
    "### Development Environment"
   ]
  },
  {
   "cell_type": "code",
   "execution_count": null,
   "metadata": {},
   "outputs": [],
   "source": [
    "import os\n",
    "import gzip\n",
    "import numpy as np\n",
    "from tqdm import tqdm\n",
    "import matplotlib.pyplot as plt"
   ]
  },
  {
   "cell_type": "markdown",
   "metadata": {},
   "source": [
    "### Single Layer Perceptron Classifier"
   ]
  },
  {
   "cell_type": "code",
   "execution_count": null,
   "metadata": {},
   "outputs": [],
   "source": [
    "def read_images(file_path, normalize=True):\n",
    "  with gzip.open(file_path,'rb') as f:\n",
    "    features = np.frombuffer(f.read(), dtype=np.uint8, offset=16)\n",
    "    features =  features.reshape(-1, 784)\n",
    "\n",
    "  if normalize:\n",
    "    features = features.astype(np.float32)\n",
    "    features = features / 255.0\n",
    "\n",
    "  return features\n",
    "\n",
    "def read_labels(file_path):\n",
    "  with gzip.open(file_path, 'rb') as f:\n",
    "    labels = np.frombuffer(f.read(), dtype=np.uint8, offset=8)\n",
    "\n",
    "  return labels\n",
    "\n",
    "def data_preprocessor(mnist_dir_path='./'):\n",
    "  train_images_path = os.path.join(mnist_dir_path + 'train-images-idx3-ubyte.gz') \n",
    "  train_labels_path = os.path.join(mnist_dir_path + 'train-labels-idx1-ubyte.gz')\n",
    "  test_images_path = os.path.join(mnist_dir_path + 't10k-images-idx3-ubyte.gz')\n",
    "  test_labels_path = os.path.join(mnist_dir_path + 't10k-labels-idx1-ubyte.gz')\n",
    "\n",
    "  train_images = read_images(train_images_path)\n",
    "  train_labels = read_labels(train_labels_path)\n",
    "  test_images = read_images(test_images_path)\n",
    "  test_labels = read_labels(test_labels_path)\n",
    "\n",
    "  return train_images, train_labels, test_images, test_labels\n",
    "\n",
    "def show_image(image, label):\n",
    "  plt.title(\"Label : {}\".format(str(label)))\n",
    "  plt.imshow(image.reshape(28, 28), cmap=plt.cm.gray_r)\n",
    "  plt.show()\n",
    "\n",
    "def one_hot_encoding(labels):\n",
    "    one_hot_labels = np.zeros((labels.size, 10))\n",
    "    for i in range(labels.size):\n",
    "        one_hot_labels[i, labels[i]] = 1.0\n",
    "    return one_hot_labels\n",
    "\n",
    "def data_loader(train_images, train_labels, test_images, test_labels):\n",
    "       \n",
    "  split = len(test_images) # train:valid:test = 5:1:1\n",
    "  valid_images, valid_labels = train_images[-split:], train_labels[-split:]\n",
    "  train_images, train_labels = train_images[:-split], train_labels[:-split]\n",
    "  \n",
    "  train_labels = one_hot_encoding(train_labels)\n",
    "  valid_labels = one_hot_encoding(valid_labels)\n",
    "  test_labels = one_hot_encoding(test_labels)\n",
    "\n",
    "  train_dataloader = [[i, j] for i, j in zip(train_images, train_labels)]\n",
    "  valid_dataloader = [[i, j] for i, j in zip(valid_images, valid_labels)]\n",
    "  test_dataloader = [[i, j] for i, j in zip(test_images, test_labels)]\n",
    "\n",
    "  return train_dataloader, valid_dataloader, test_dataloader "
   ]
  },
  {
   "cell_type": "code",
   "execution_count": null,
   "metadata": {},
   "outputs": [],
   "source": [
    "class NeuralNetwork(object):\n",
    "    def __init__(self, input_size, ouput_size):\n",
    "        self.w = 0.2 * np.random.rand(input_size, ouput_size) - 0.1\n",
    "        self.b = np.zeros(ouput_size)\n",
    "\n",
    "    def forward(self, x):\n",
    "        self.x = x\n",
    "        output = np.dot(x, self.w) + self.b\n",
    "        output = softmax(output)\n",
    "        return output\n",
    "\n",
    "    def backward(self, output, label, learning_rate):\n",
    "        delta = output - label\n",
    "        self.w -= learning_rate * np.outer(self.x, delta)\n",
    "        self.b -= learning_rate * delta\n",
    "\n",
    "def mean_squared_error(y, t):\n",
    "    return 0.5 * np.sum((y - t)**2)\n",
    "\n",
    "def softmax(y):\n",
    "    c = np.max(y)\n",
    "    exp_a = np.exp(y - c)\n",
    "    sum_exp_a = np.sum(exp_a)\n",
    "    y = exp_a / sum_exp_a\n",
    "    return y"
   ]
  },
  {
   "cell_type": "code",
   "execution_count": null,
   "metadata": {},
   "outputs": [],
   "source": [
    "def train(model, train_dataloader, valid_dataloader):\n",
    "    \n",
    "    learning_rate = 0.1; epochs = 10; \n",
    "    early_stop = \"pass\";  # option: 'pass', 'stop'\n",
    "    overfitting = \"ignore\" # option: 'check', 'ignore'\n",
    "    best_valid_loss = -1\n",
    "\n",
    "    for epoch in range(epochs):\n",
    "        \n",
    "        if early_stop == \"pass\":\n",
    "          print(\"Epoch {}\".format(epoch+1))\n",
    "\n",
    "          training_loss = []\n",
    "          for batch in tqdm(train_dataloader):\n",
    "              image = batch[0]; label = batch[1]\n",
    "              output = model.forward(image) \n",
    "              loss = mean_squared_error(output, label)\n",
    "              training_loss.append(loss)\n",
    "              model.backward(output, label, learning_rate)\n",
    "          print(\"Training Loss : {}\".format(np.mean(training_loss)))\n",
    "\n",
    "          valid_loss = []; count = 0\n",
    "          for batch in tqdm(valid_dataloader):\n",
    "              image = batch[0]; label = batch[1]\n",
    "              output = model.forward(image) \n",
    "              loss = mean_squared_error(output, label)\n",
    "              valid_loss.append(loss)\n",
    "              prediction = np.max(output)\n",
    "              gold_label = np.max(label)\n",
    "              if prediction == gold_label: count += 1\n",
    "\n",
    "          accuarcy = count / len(label)\n",
    "          epoch_valid_loss = np.mean(valid_loss)\n",
    "          print(\"Validation Loss : {}\".format(epoch_valid_loss))\n",
    "          print(\"Validation Accuracy : {}\\n\".format(accuarcy))\n",
    "          \n",
    "          if overfitting == \"check\":\n",
    "            if epoch == 0:\n",
    "               best_valid_loss = epoch_valid_loss\n",
    "               best_model = model\n",
    "            elif epoch != 0: \n",
    "              if best_valid_loss >= epoch_valid_loss: \n",
    "                 best_valid_loss = epoch_valid_loss; best_model = model\n",
    "                 early_stop = \"pass\"  \n",
    "              elif best_valid_loss < epoch_valid_loss: early_stop = \"stop\" \n",
    "          elif overfitting == \"ignore\":\n",
    "             best_model = model\n",
    "        \n",
    "        if early_stop == \"stop\":\n",
    "           pass\n",
    "             \n",
    "    return best_model\n",
    "\n",
    "def test(model, test_dataloader):\n",
    "  print(\"Model Evaulation\")\n",
    "  count = 0\n",
    "  for batch in tqdm(test_dataloader):\n",
    "      image = batch[0]; label = batch[1]\n",
    "      output = model.forward(image)\n",
    "\n",
    "      prediction = np.argmax(output)\n",
    "      gold_label = np.max(label)\n",
    "\n",
    "      if prediction == gold_label:\n",
    "        count += 1\n",
    "\n",
    "  accuracy = count / len(test_images)\n",
    "  print(\"Test Accuracy : {}\".format(accuracy))"
   ]
  },
  {
   "cell_type": "code",
   "execution_count": 2,
   "metadata": {},
   "outputs": [
    {
     "data": {
      "image/png": "[encoded data removed]",
      "text/plain": [
       "<Figure size 640x480 with 1 Axes>"
      ]
     },
     "metadata": {},
     "output_type": "display_data"
    },
    {
     "name": "stdout",
     "output_type": "stream",
     "text": [
      "Epoch 1\n"
     ]
    },
    {
     "name": "stderr",
     "output_type": "stream",
     "text": [
      "100%|██████████| 50000/50000 [00:03<00:00, 14148.28it/s]\n"
     ]
    },
    {
     "name": "stdout",
     "output_type": "stream",
     "text": [
      "Training Loss : 0.1165832754465587\n"
     ]
    },
    {
     "name": "stderr",
     "output_type": "stream",
     "text": [
      "100%|██████████| 10000/10000 [00:00<00:00, 28011.20it/s]\n"
     ]
    },
    {
     "name": "stdout",
     "output_type": "stream",
     "text": [
      "Validation Loss : 0.09248985452233323\n",
      "Validation Accuracy : 46.5\n",
      "\n",
      "Epoch 2\n"
     ]
    },
    {
     "name": "stderr",
     "output_type": "stream",
     "text": [
      "100%|██████████| 50000/50000 [00:03<00:00, 14072.63it/s]\n"
     ]
    },
    {
     "name": "stdout",
     "output_type": "stream",
     "text": [
      "Training Loss : 0.10105227211461607\n"
     ]
    },
    {
     "name": "stderr",
     "output_type": "stream",
     "text": [
      "100%|██████████| 10000/10000 [00:00<00:00, 26879.53it/s]\n"
     ]
    },
    {
     "name": "stdout",
     "output_type": "stream",
     "text": [
      "Validation Loss : 0.09635369227756521\n",
      "Validation Accuracy : 45.0\n",
      "\n",
      "Epoch 3\n"
     ]
    },
    {
     "name": "stderr",
     "output_type": "stream",
     "text": [
      "100%|██████████| 50000/50000 [00:03<00:00, 12906.57it/s]\n"
     ]
    },
    {
     "name": "stdout",
     "output_type": "stream",
     "text": [
      "Training Loss : 0.09730983195305916\n"
     ]
    },
    {
     "name": "stderr",
     "output_type": "stream",
     "text": [
      "100%|██████████| 10000/10000 [00:00<00:00, 27395.33it/s]\n"
     ]
    },
    {
     "name": "stdout",
     "output_type": "stream",
     "text": [
      "Validation Loss : 0.08833496219000342\n",
      "Validation Accuracy : 62.9\n",
      "\n",
      "Epoch 4\n"
     ]
    },
    {
     "name": "stderr",
     "output_type": "stream",
     "text": [
      "100%|██████████| 50000/50000 [00:03<00:00, 13758.95it/s]\n"
     ]
    },
    {
     "name": "stdout",
     "output_type": "stream",
     "text": [
      "Training Loss : 0.09505149103804726\n"
     ]
    },
    {
     "name": "stderr",
     "output_type": "stream",
     "text": [
      "100%|██████████| 10000/10000 [00:00<00:00, 24814.04it/s]\n"
     ]
    },
    {
     "name": "stdout",
     "output_type": "stream",
     "text": [
      "Validation Loss : 0.09541733784147548\n",
      "Validation Accuracy : 57.4\n",
      "\n",
      "Epoch 5\n"
     ]
    },
    {
     "name": "stderr",
     "output_type": "stream",
     "text": [
      "100%|██████████| 50000/50000 [00:03<00:00, 14005.62it/s]\n"
     ]
    },
    {
     "name": "stdout",
     "output_type": "stream",
     "text": [
      "Training Loss : 0.09310320273141512\n"
     ]
    },
    {
     "name": "stderr",
     "output_type": "stream",
     "text": [
      "100%|██████████| 10000/10000 [00:00<00:00, 16556.33it/s]\n"
     ]
    },
    {
     "name": "stdout",
     "output_type": "stream",
     "text": [
      "Validation Loss : 0.10081970990437641\n",
      "Validation Accuracy : 56.7\n",
      "\n",
      "Epoch 6\n"
     ]
    },
    {
     "name": "stderr",
     "output_type": "stream",
     "text": [
      "100%|██████████| 50000/50000 [00:03<00:00, 12502.28it/s]\n"
     ]
    },
    {
     "name": "stdout",
     "output_type": "stream",
     "text": [
      "Training Loss : 0.09255142936070158\n"
     ]
    },
    {
     "name": "stderr",
     "output_type": "stream",
     "text": [
      "100%|██████████| 10000/10000 [00:00<00:00, 22124.03it/s]\n"
     ]
    },
    {
     "name": "stdout",
     "output_type": "stream",
     "text": [
      "Validation Loss : 0.09337401259952909\n",
      "Validation Accuracy : 56.7\n",
      "\n",
      "Epoch 7\n"
     ]
    },
    {
     "name": "stderr",
     "output_type": "stream",
     "text": [
      "100%|██████████| 50000/50000 [00:04<00:00, 12121.22it/s]\n"
     ]
    },
    {
     "name": "stdout",
     "output_type": "stream",
     "text": [
      "Training Loss : 0.09159738671573886\n"
     ]
    },
    {
     "name": "stderr",
     "output_type": "stream",
     "text": [
      "100%|██████████| 10000/10000 [00:00<00:00, 26809.73it/s]\n"
     ]
    },
    {
     "name": "stdout",
     "output_type": "stream",
     "text": [
      "Validation Loss : 0.09776932437034798\n",
      "Validation Accuracy : 64.7\n",
      "\n",
      "Epoch 8\n"
     ]
    },
    {
     "name": "stderr",
     "output_type": "stream",
     "text": [
      "100%|██████████| 50000/50000 [00:03<00:00, 13207.51it/s]\n"
     ]
    },
    {
     "name": "stdout",
     "output_type": "stream",
     "text": [
      "Training Loss : 0.09051283493802671\n"
     ]
    },
    {
     "name": "stderr",
     "output_type": "stream",
     "text": [
      "100%|██████████| 10000/10000 [00:00<00:00, 25641.24it/s]\n"
     ]
    },
    {
     "name": "stdout",
     "output_type": "stream",
     "text": [
      "Validation Loss : 0.09777693368728332\n",
      "Validation Accuracy : 63.7\n",
      "\n",
      "Epoch 9\n"
     ]
    },
    {
     "name": "stderr",
     "output_type": "stream",
     "text": [
      "100%|██████████| 50000/50000 [00:03<00:00, 12651.81it/s]\n"
     ]
    },
    {
     "name": "stdout",
     "output_type": "stream",
     "text": [
      "Training Loss : 0.0900745618607145\n"
     ]
    },
    {
     "name": "stderr",
     "output_type": "stream",
     "text": [
      "100%|██████████| 10000/10000 [00:00<00:00, 26593.74it/s]\n"
     ]
    },
    {
     "name": "stdout",
     "output_type": "stream",
     "text": [
      "Validation Loss : 0.09335346434583969\n",
      "Validation Accuracy : 73.4\n",
      "\n",
      "Epoch 10\n"
     ]
    },
    {
     "name": "stderr",
     "output_type": "stream",
     "text": [
      "100%|██████████| 50000/50000 [00:04<00:00, 11924.65it/s]\n"
     ]
    },
    {
     "name": "stdout",
     "output_type": "stream",
     "text": [
      "Training Loss : 0.08887131139153087\n"
     ]
    },
    {
     "name": "stderr",
     "output_type": "stream",
     "text": [
      "100%|██████████| 10000/10000 [00:00<00:00, 22573.58it/s]\n"
     ]
    },
    {
     "name": "stdout",
     "output_type": "stream",
     "text": [
      "Validation Loss : 0.09343213453170494\n",
      "Validation Accuracy : 67.8\n",
      "\n",
      "Model Evaulation\n"
     ]
    },
    {
     "name": "stderr",
     "output_type": "stream",
     "text": [
      "100%|██████████| 10000/10000 [00:00<00:00, 29326.00it/s]"
     ]
    },
    {
     "name": "stdout",
     "output_type": "stream",
     "text": [
      "Test Accuracy : 0.1202\n"
     ]
    },
    {
     "name": "stderr",
     "output_type": "stream",
     "text": [
      "\n"
     ]
    }
   ],
   "source": [
    "if __name__ == \"__main__\":\n",
    "\n",
    "  mnist_dir_path = './'\n",
    "  train_images, train_labels, test_images, test_labels = data_preprocessor(mnist_dir_path)\n",
    "  train_dataloader, valid_dataloader, test_dataloader = data_loader(train_images, train_labels, \n",
    "                                                                    test_images, test_labels)\n",
    "  show_image(train_images[0], train_labels[0])\n",
    "  \n",
    "  model = NeuralNetwork(784, 10)\n",
    "  model = train(model, train_dataloader, valid_dataloader)\n",
    "  result = test(model, test_dataloader)"
   ]
  },
  {
   "cell_type": "markdown",
   "metadata": {},
   "source": [
    "<br>"
   ]
  },
  {
   "cell_type": "markdown",
   "metadata": {},
   "source": [
    "### Reference"
   ]
  },
  {
   "cell_type": "markdown",
   "metadata": {},
   "source": [
    "<b>Data</b>\n",
    "<br>[MNIST (Original)](http://yann.lecun.com/exdb/mnist/)\n",
    "<br>[MNIST (Hugginface)](https://huggingface.co/datasets/ylecun/mnist)\n",
    "\n",
    "<br><b>Source Code</b>\n",
    "<br>[Google Colab](https://colab.research.google.com/drive/13GedG2V1iAFzDfotNF5xeuA3SXqlJK2s)"
   ]
  }
 ],
 "metadata": {
  "kernelspec": {
   "display_name": "exercise",
   "language": "python",
   "name": "python3"
  },
  "language_info": {
   "codemirror_mode": {
    "name": "ipython",
    "version": 3
   },
   "file_extension": ".py",
   "mimetype": "text/x-python",
   "name": "python",
   "nbconvert_exporter": "python",
   "pygments_lexer": "ipython3",
   "version": "3.11.5"
  }
 },
 "nbformat": 4,
 "nbformat_minor": 2
}
